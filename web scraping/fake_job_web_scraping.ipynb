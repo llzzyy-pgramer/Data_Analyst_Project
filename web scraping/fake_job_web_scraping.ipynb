{
 "cells": [
  {
   "cell_type": "code",
   "execution_count": 2,
   "metadata": {},
   "outputs": [
    {
     "name": "stdout",
     "output_type": "stream",
     "text": [
      "Requirement already satisfied: beautifulsoup4 in /Users/wasin/opt/anaconda3/lib/python3.8/site-packages (4.9.1)\n",
      "Requirement already satisfied: soupsieve>1.2 in /Users/wasin/opt/anaconda3/lib/python3.8/site-packages (from beautifulsoup4) (2.0.1)\n",
      "Note: you may need to restart the kernel to use updated packages.\n"
     ]
    }
   ],
   "source": [
    "pip install beautifulsoup4"
   ]
  },
  {
   "cell_type": "code",
   "execution_count": 3,
   "metadata": {},
   "outputs": [
    {
     "name": "stdout",
     "output_type": "stream",
     "text": [
      "Requirement already satisfied: lxml in /Users/wasin/opt/anaconda3/lib/python3.8/site-packages (4.5.2)\n",
      "Note: you may need to restart the kernel to use updated packages.\n"
     ]
    }
   ],
   "source": [
    "pip  install lxml"
   ]
  },
  {
   "cell_type": "code",
   "execution_count": 4,
   "metadata": {},
   "outputs": [
    {
     "name": "stdout",
     "output_type": "stream",
     "text": [
      "Requirement already satisfied: requests in /Users/wasin/opt/anaconda3/lib/python3.8/site-packages (2.24.0)\n",
      "Requirement already satisfied: idna<3,>=2.5 in /Users/wasin/opt/anaconda3/lib/python3.8/site-packages (from requests) (2.10)\n",
      "Requirement already satisfied: certifi>=2017.4.17 in /Users/wasin/opt/anaconda3/lib/python3.8/site-packages (from requests) (2020.6.20)\n",
      "Requirement already satisfied: chardet<4,>=3.0.2 in /Users/wasin/opt/anaconda3/lib/python3.8/site-packages (from requests) (3.0.4)\n",
      "Requirement already satisfied: urllib3!=1.25.0,!=1.25.1,<1.26,>=1.21.1 in /Users/wasin/opt/anaconda3/lib/python3.8/site-packages (from requests) (1.25.9)\n",
      "Note: you may need to restart the kernel to use updated packages.\n"
     ]
    }
   ],
   "source": [
    "pip install requests"
   ]
  },
  {
   "cell_type": "code",
   "execution_count": 6,
   "metadata": {},
   "outputs": [],
   "source": [
    "from bs4 import BeautifulSoup\n",
    "import requests"
   ]
  },
  {
   "cell_type": "code",
   "execution_count": null,
   "metadata": {},
   "outputs": [],
   "source": [
    "#Scraping for local html file.\n",
    "\n",
    "#with open ('home.html','r') as html_file:\n",
    "#    content = html_file.read()\n",
    "#    soup = BeautifulSoup(content,'lxml')\n",
    "#    print(soup.prettify()) \n",
    "#    \n",
    "#with open ('home.html','r') as html_file:\n",
    "#    content = html_file.read()\n",
    "#    soup = BeautifulSoup(content,'lxml')\n",
    "#    course_cards = soup.find_all('div',class_='card')\n",
    "#    for course in course_cards:\n",
    "#        course_name  = course.h5.text\n",
    "#        course_price = course.a.text.split()[-1]\n",
    "#        print(f'{course_name} costs {course_price}')\n",
    "\n",
    "\n",
    "        "
   ]
  },
  {
   "cell_type": "code",
   "execution_count": 31,
   "metadata": {},
   "outputs": [
    {
     "name": "stdout",
     "output_type": "stream",
     "text": [
      "Insert some keyword: \n",
      ">engineer\n",
      "Search for: engineer\n",
      "\n",
      "Title: Energy engineer\n",
      "Company : Vasquez-Davidson\n",
      "Location: Christopherville\n",
      "More info: https://realpython.github.io/fake-jobs/jobs/energy-engineer-1.html\n",
      "           \n",
      "Title: Software Engineer (Python)\n",
      "Company : Garcia PLC\n",
      "Location: Ericberg\n",
      "More info: https://realpython.github.io/fake-jobs/jobs/software-engineer-python-10.html\n",
      "           \n",
      "Title: Materials engineer\n",
      "Company : Smith and Sons\n",
      "Location: South Davidtown\n",
      "More info: https://realpython.github.io/fake-jobs/jobs/materials-engineer-19.html\n",
      "           \n",
      "Title: Materials engineer\n",
      "Company : Davis, Serrano and Cook\n",
      "Location: South Tammyberg\n",
      "More info: https://realpython.github.io/fake-jobs/jobs/materials-engineer-24.html\n",
      "           \n",
      "Title: Structural engineer\n",
      "Company : Pierce-Long\n",
      "Location: Herbertside\n",
      "More info: https://realpython.github.io/fake-jobs/jobs/structural-engineer-28.html\n",
      "           \n",
      "Title: Broadcast engineer\n",
      "Company : Morgan, Butler and Bennett\n",
      "Location: Loribury\n",
      "More info: https://realpython.github.io/fake-jobs/jobs/broadcast-engineer-32.html\n",
      "           \n",
      "Title: Engineer, communications\n",
      "Company : Dixon Inc\n",
      "Location: Wrightberg\n",
      "More info: https://realpython.github.io/fake-jobs/jobs/engineer-communications-38.html\n",
      "           \n",
      "Title: Engineer, broadcasting (operations)\n",
      "Company : Taylor PLC\n",
      "Location: Gileston\n",
      "More info: https://realpython.github.io/fake-jobs/jobs/engineer-broadcasting-operations-48.html\n",
      "           \n",
      "Title: Manufacturing systems engineer\n",
      "Company : Garcia PLC\n",
      "Location: Joybury\n",
      "More info: https://realpython.github.io/fake-jobs/jobs/manufacturing-systems-engineer-51.html\n",
      "           \n",
      "Title: Engineer, automotive\n",
      "Company : Martinez-Berry\n",
      "Location: New Jeffrey\n",
      "More info: https://realpython.github.io/fake-jobs/jobs/engineer-automotive-65.html\n",
      "           \n",
      "Title: Manufacturing systems engineer\n",
      "Company : Stanley-Frederick\n",
      "Location: Stevensland\n",
      "More info: https://realpython.github.io/fake-jobs/jobs/manufacturing-systems-engineer-86.html\n",
      "           \n",
      "\n",
      "Search result: 11\n"
     ]
    }
   ],
   "source": [
    "#Scraping for the website.\n",
    "\n",
    "#The goal is to search for the job position through input\n",
    "html_text = requests.get('https://realpython.github.io/fake-jobs/').text\n",
    "soup = BeautifulSoup(html_text,'lxml')\n",
    "job_card = soup.find_all('div',class_='column is-half')\n",
    "\n",
    "\n",
    "print('Insert some keyword: ')\n",
    "keyword = input('>')\n",
    "print(f'Search for: {keyword}')\n",
    "print()\n",
    "count = 0\n",
    "for job in job_card: \n",
    "    job_name = job.h2.text\n",
    "    company_name = job.h3.text\n",
    "    location_name = job.p.text.split(sep=',')[0]\n",
    "    link = job.find_all('a')[1]['href'] \n",
    "    if keyword.lower() in job_name.lower():\n",
    " \n",
    "        print(f'''Title: {job_name}\n",
    "Company : {company_name}\n",
    "Location: {location_name.strip()}\n",
    "More info: {link}\n",
    "           ''')\n",
    "        count +=  1 \n",
    "print()     \n",
    "print(f'Search result: {count}')\n",
    "    \n",
    "        \n"
   ]
  },
  {
   "cell_type": "code",
   "execution_count": null,
   "metadata": {},
   "outputs": [],
   "source": []
  },
  {
   "cell_type": "code",
   "execution_count": null,
   "metadata": {},
   "outputs": [],
   "source": []
  },
  {
   "cell_type": "code",
   "execution_count": null,
   "metadata": {},
   "outputs": [],
   "source": []
  }
 ],
 "metadata": {
  "kernelspec": {
   "display_name": "Python 3",
   "language": "python",
   "name": "python3"
  }
 },
 "nbformat": 4,
 "nbformat_minor": 4
}
